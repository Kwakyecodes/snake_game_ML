{
  "nbformat": 4,
  "nbformat_minor": 0,
  "metadata": {
    "colab": {
      "provenance": []
    },
    "kernelspec": {
      "name": "python3",
      "display_name": "Python 3"
    },
    "language_info": {
      "name": "python"
    }
  },
  "cells": [
    {
      "cell_type": "code",
      "execution_count": null,
      "metadata": {
        "colab": {
          "base_uri": "https://localhost:8080/"
        },
        "id": "Vjt5SXjOpWne",
        "outputId": "7eb3090d-faee-4bea-b11e-6e403e638b48"
      },
      "outputs": [
        {
          "output_type": "stream",
          "name": "stdout",
          "text": [
            "10000\n",
            "10000\n"
          ]
        }
      ],
      "source": [
        "# LOADING THE DATA\n",
        "\n",
        "import pickle\n",
        "\n",
        "# Load training data\n",
        "training_data = []\n",
        "with open(\"/content/drive/MyDrive/snake_game_data/training_data.pkl\", \"rb\") as f:\n",
        "    while True:\n",
        "        try:\n",
        "            training_data.append(pickle.load(f))\n",
        "        except EOFError:\n",
        "            break\n",
        "\n",
        "# Loading labels data\n",
        "labels_data = []\n",
        "with open(\"/content/drive/MyDrive/snake_game_data/labels.pkl\", \"rb\") as f:\n",
        "    while True:\n",
        "        try:\n",
        "            labels_data.append(pickle.load(f))\n",
        "        except EOFError:\n",
        "            break\n",
        "\n",
        "\n",
        "# Check the lengths of the loaded data\n",
        "print(len(training_data))\n",
        "print(len(labels_data))"
      ]
    },
    {
      "cell_type": "code",
      "source": [
        "import numpy as np\n",
        "\n",
        "# Getting data values from list of np arrays\n",
        "labels_data = np.array([data for data in labels_data])\n",
        "print(labels_data.shape)\n",
        "\n",
        "# Given the training data a dimension of 1\n",
        "training_data = np.expand_dims(training_data, axis=-1)\n",
        "print(training_data.shape)"
      ],
      "metadata": {
        "colab": {
          "base_uri": "https://localhost:8080/"
        },
        "id": "jjYA0rdT5bCx",
        "outputId": "ef649670-b6ec-4011-e574-0628a89b9c8d"
      },
      "execution_count": null,
      "outputs": [
        {
          "output_type": "stream",
          "name": "stdout",
          "text": [
            "(10000,)\n",
            "(10000, 6, 8, 1)\n"
          ]
        }
      ]
    },
    {
      "cell_type": "code",
      "source": [
        "import tensorflow as tf\n",
        "from tensorflow.keras import datasets, layers, models"
      ],
      "metadata": {
        "id": "MPDF6A81q_5X"
      },
      "execution_count": null,
      "outputs": []
    },
    {
      "cell_type": "code",
      "source": [
        "model = models.Sequential()\n",
        "\n",
        "# Change input_shape to (6, 8, 1)\n",
        "model.add(layers.Conv2D(32, (3, 3), activation='relu', input_shape=(6, 8, 1)))\n",
        "model.add(layers.MaxPooling2D((2, 2)))  # After this layer, size will be 2x3\n",
        "\n",
        "# Given the reduced size, you may not need as many convolutional and pooling layers\n",
        "# However, if you decide to keep them, you should be aware of the resulting feature map sizes\n",
        "model.add(layers.Conv2D(64, (2, 2), activation='relu'))  # Use (2, 2) kernel to fit the reduced size. Resultant size: 1x2\n",
        "\n",
        "# After this Conv2D layer, further pooling will make the spatial dimensions too small, so I'm removing the subsequent MaxPooling2D layer\n",
        "# If you want more Conv2D layers, you can add them but be careful with the kernel sizes\n",
        "\n",
        "model.add(layers.Flatten())  # Flatten the feature map\n",
        "model.add(layers.Dense(64, activation='relu'))\n",
        "model.add(layers.Dense(4, activation='softmax'))\n",
        "\n",
        "model.summary()"
      ],
      "metadata": {
        "colab": {
          "base_uri": "https://localhost:8080/"
        },
        "id": "Hq1GyIzJJfEm",
        "outputId": "b1af0a4c-5031-4688-e3f4-2e313a936ace"
      },
      "execution_count": null,
      "outputs": [
        {
          "output_type": "stream",
          "name": "stdout",
          "text": [
            "Model: \"sequential_14\"\n",
            "_________________________________________________________________\n",
            " Layer (type)                Output Shape              Param #   \n",
            "=================================================================\n",
            " conv2d_34 (Conv2D)          (None, 4, 6, 32)          320       \n",
            "                                                                 \n",
            " max_pooling2d_20 (MaxPoolin  (None, 2, 3, 32)         0         \n",
            " g2D)                                                            \n",
            "                                                                 \n",
            " conv2d_35 (Conv2D)          (None, 1, 2, 64)          8256      \n",
            "                                                                 \n",
            " flatten_6 (Flatten)         (None, 128)               0         \n",
            "                                                                 \n",
            " dense_12 (Dense)            (None, 64)                8256      \n",
            "                                                                 \n",
            " dense_13 (Dense)            (None, 4)                 260       \n",
            "                                                                 \n",
            "=================================================================\n",
            "Total params: 17,092\n",
            "Trainable params: 17,092\n",
            "Non-trainable params: 0\n",
            "_________________________________________________________________\n"
          ]
        }
      ]
    },
    {
      "cell_type": "code",
      "source": [
        "# # This is for big data\n",
        "# model = models.Sequential()\n",
        "# model.add(layers.Conv2D(32, (3, 3), activation='relu', input_shape=(60, 80, 1)))\n",
        "# model.add(layers.MaxPooling2D((2, 2)))\n",
        "# model.add(layers.Conv2D(64, (3, 3), activation='relu'))\n",
        "# model.add(layers.MaxPooling2D((2, 2)))\n",
        "# model.add(layers.Conv2D(64, (3, 3), activation='relu'))"
      ],
      "metadata": {
        "id": "hk_k8xBvsisf"
      },
      "execution_count": null,
      "outputs": []
    },
    {
      "cell_type": "code",
      "source": [
        "# # This is for big data\n",
        "# model.summary()\n"
      ],
      "metadata": {
        "colab": {
          "base_uri": "https://localhost:8080/"
        },
        "id": "28fTzKWicbPo",
        "outputId": "1f7335e9-16b5-4257-9f36-dd0ce25d7865"
      },
      "execution_count": null,
      "outputs": [
        {
          "output_type": "stream",
          "name": "stdout",
          "text": [
            "Model: \"sequential_3\"\n",
            "_________________________________________________________________\n",
            " Layer (type)                Output Shape              Param #   \n",
            "=================================================================\n",
            " conv2d_9 (Conv2D)           (None, 58, 78, 32)        320       \n",
            "                                                                 \n",
            " max_pooling2d_6 (MaxPooling  (None, 29, 39, 32)       0         \n",
            " 2D)                                                             \n",
            "                                                                 \n",
            " conv2d_10 (Conv2D)          (None, 27, 37, 64)        18496     \n",
            "                                                                 \n",
            " max_pooling2d_7 (MaxPooling  (None, 13, 18, 64)       0         \n",
            " 2D)                                                             \n",
            "                                                                 \n",
            " conv2d_11 (Conv2D)          (None, 11, 16, 64)        36928     \n",
            "                                                                 \n",
            "=================================================================\n",
            "Total params: 55,744\n",
            "Trainable params: 55,744\n",
            "Non-trainable params: 0\n",
            "_________________________________________________________________\n"
          ]
        }
      ]
    },
    {
      "cell_type": "code",
      "source": [
        "# # This is for big data\n",
        "# model.add(layers.Flatten())\n",
        "# model.add(layers.Dense(64, activation='relu'))\n",
        "# model.add(layers.Dense(4, activation='softmax'))"
      ],
      "metadata": {
        "id": "hjBq2zbWcsyT"
      },
      "execution_count": null,
      "outputs": []
    },
    {
      "cell_type": "code",
      "source": [
        "# # This is for big data\n",
        "# model.summary()"
      ],
      "metadata": {
        "colab": {
          "base_uri": "https://localhost:8080/"
        },
        "id": "LRBuxFB2c6NJ",
        "outputId": "5b1b0d76-8205-4818-a439-1d2738025937"
      },
      "execution_count": null,
      "outputs": [
        {
          "output_type": "stream",
          "name": "stdout",
          "text": [
            "Model: \"sequential_3\"\n",
            "_________________________________________________________________\n",
            " Layer (type)                Output Shape              Param #   \n",
            "=================================================================\n",
            " conv2d_9 (Conv2D)           (None, 58, 78, 32)        320       \n",
            "                                                                 \n",
            " max_pooling2d_6 (MaxPooling  (None, 29, 39, 32)       0         \n",
            " 2D)                                                             \n",
            "                                                                 \n",
            " conv2d_10 (Conv2D)          (None, 27, 37, 64)        18496     \n",
            "                                                                 \n",
            " max_pooling2d_7 (MaxPooling  (None, 13, 18, 64)       0         \n",
            " 2D)                                                             \n",
            "                                                                 \n",
            " conv2d_11 (Conv2D)          (None, 11, 16, 64)        36928     \n",
            "                                                                 \n",
            " flatten_3 (Flatten)         (None, 11264)             0         \n",
            "                                                                 \n",
            " dense_6 (Dense)             (None, 64)                720960    \n",
            "                                                                 \n",
            " dense_7 (Dense)             (None, 4)                 260       \n",
            "                                                                 \n",
            "=================================================================\n",
            "Total params: 776,964\n",
            "Trainable params: 776,964\n",
            "Non-trainable params: 0\n",
            "_________________________________________________________________\n"
          ]
        }
      ]
    },
    {
      "cell_type": "code",
      "source": [
        "model.compile(optimizer='adam',\n",
        "              loss=tf.keras.losses.SparseCategoricalCrossentropy(from_logits=True),\n",
        "              metrics=['accuracy'])\n",
        "\n",
        "# Train the model\n",
        "history = model.fit(training_data, labels_data, epochs=10)\n",
        "\n",
        "# Save model weights\n",
        "model.save_weights('cnn_weights.h5')"
      ],
      "metadata": {
        "colab": {
          "base_uri": "https://localhost:8080/"
        },
        "id": "zEhuCWOgc953",
        "outputId": "cdbb2be2-fba0-4b8c-e730-78cf8f081711"
      },
      "execution_count": null,
      "outputs": [
        {
          "output_type": "stream",
          "name": "stdout",
          "text": [
            "Epoch 1/10\n",
            "313/313 [==============================] - 2s 3ms/step - loss: 1.0472 - accuracy: 0.5738\n",
            "Epoch 2/10\n",
            "313/313 [==============================] - 1s 3ms/step - loss: 0.5589 - accuracy: 0.8138\n",
            "Epoch 3/10\n",
            "313/313 [==============================] - 1s 3ms/step - loss: 0.4223 - accuracy: 0.8686\n",
            "Epoch 4/10\n",
            "313/313 [==============================] - 1s 3ms/step - loss: 0.3558 - accuracy: 0.8853\n",
            "Epoch 5/10\n",
            "313/313 [==============================] - 1s 3ms/step - loss: 0.3215 - accuracy: 0.8976\n",
            "Epoch 6/10\n",
            "313/313 [==============================] - 1s 3ms/step - loss: 0.2953 - accuracy: 0.9069\n",
            "Epoch 7/10\n",
            "313/313 [==============================] - 1s 3ms/step - loss: 0.2784 - accuracy: 0.9092\n",
            "Epoch 8/10\n",
            "218/313 [===================>..........] - ETA: 0s - loss: 0.2585 - accuracy: 0.9108"
          ]
        }
      ]
    }
  ]
}